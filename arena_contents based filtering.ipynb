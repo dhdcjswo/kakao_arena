{
 "cells": [
  {
   "cell_type": "code",
   "execution_count": null,
   "metadata": {},
   "outputs": [],
   "source": [
    "import pandas as pd\n",
    "import numpy as np\n",
    "import json\n",
    "import matplotlib.pyplot as plt\n",
    "import seaborn as sns\n",
    "from ast import literal_eval\n",
    "from sklearn.feature_extraction.text import TfidfVectorizer\n",
    "from sklearn.feature_extraction.text import CountVectorizer\n",
    "from sklearn.metrics.pairwise import cosine_similarity"
   ]
  },
  {
   "cell_type": "markdown",
   "metadata": {},
   "source": [
    "# 데이터 로드"
   ]
  },
  {
   "cell_type": "code",
   "execution_count": null,
   "metadata": {},
   "outputs": [],
   "source": [
    "genre_gn_all = pd.read_json('C:/Users/kjh96/Github/arena/genre_gn_all.json', typ = 'series')\n",
    "genre_gn_all = pd.DataFrame(genre_gn_all, columns = ['gnr_name']).reset_index().rename(columns = {'index' : 'gnr_code'})\n",
    "genre_gn_all.head(3)"
   ]
  },
  {
   "cell_type": "markdown",
   "metadata": {},
   "source": [
    "# 1. 곡 장르 코드 데이터\n",
    "### 대분류 장르코드"
   ]
  },
  {
   "cell_type": "code",
   "execution_count": 3,
   "metadata": {},
   "outputs": [],
   "source": [
    "# 장르코드 뒷자리 두 자리가 00인 코드를 필터링\n",
    "gnr_code = genre_gn_all[genre_gn_all['gnr_code'].str[-2:] == '00']"
   ]
  },
  {
   "cell_type": "markdown",
   "metadata": {},
   "source": [
    "### 상세 장르코드"
   ]
  },
  {
   "cell_type": "code",
   "execution_count": 4,
   "metadata": {},
   "outputs": [
    {
     "name": "stderr",
     "output_type": "stream",
     "text": [
      "C:\\Users\\kjh96\\anaconda3\\lib\\site-packages\\pandas\\core\\frame.py:4133: SettingWithCopyWarning: \n",
      "A value is trying to be set on a copy of a slice from a DataFrame\n",
      "\n",
      "See the caveats in the documentation: https://pandas.pydata.org/pandas-docs/stable/user_guide/indexing.html#returning-a-view-versus-a-copy\n",
      "  errors=errors,\n"
     ]
    }
   ],
   "source": [
    "# 장르코드 뒷자리 두 자리가 00이 아닌 코드를 필터링\n",
    "dtl_gnr_code = genre_gn_all[genre_gn_all['gnr_code'].str[-2:] != '00']\n",
    "dtl_gnr_code.rename(columns = {'gnr_code' : 'dtl_gnr_code', 'gnr_name' : 'dtl_gnr_name'}, inplace = True)"
   ]
  },
  {
   "cell_type": "markdown",
   "metadata": {},
   "source": [
    "### 장르 코드 트리"
   ]
  },
  {
   "cell_type": "code",
   "execution_count": 5,
   "metadata": {},
   "outputs": [],
   "source": [
    "# 앞자리 네 자리 공통코드 추출\n",
    "gnr_code = gnr_code.assign(join_code = gnr_code['gnr_code'].str[0:4])\n",
    "dtl_gnr_code = dtl_gnr_code.assign(join_code = dtl_gnr_code['dtl_gnr_code'].str[0:4])\n",
    "\n",
    "# Merge\n",
    "gnr_code_tree = pd.merge(gnr_code, dtl_gnr_code, how = 'left', on = 'join_code')"
   ]
  },
  {
   "cell_type": "markdown",
   "metadata": {},
   "source": [
    "# 2. 노래 메타 데이터"
   ]
  },
  {
   "cell_type": "code",
   "execution_count": 7,
   "metadata": {},
   "outputs": [],
   "source": [
    "song_meta = pd.read_json('C:/Users/kjh96/Github/arena/song_meta.json')"
   ]
  },
  {
   "cell_type": "markdown",
   "metadata": {},
   "source": [
    "# 3. 플레이리스트 Train data"
   ]
  },
  {
   "cell_type": "code",
   "execution_count": 34,
   "metadata": {},
   "outputs": [],
   "source": [
    "train = pd.read_json('C:/Users/kjh96/Github/arena/train.json')\n",
    "# genre_gn_all = pd.DataFrame(genre_gn_all, columns = ['gnr_name']).reset_index().rename(columns = {'index' : 'gnr_code'})\n",
    "# genre_gn_all.head(3)\n",
    "train = train[:200]\n",
    "train_df = train[['plylst_title','songs','tags']]"
   ]
  },
  {
   "cell_type": "code",
   "execution_count": 35,
   "metadata": {},
   "outputs": [],
   "source": [
    "list_df = []\n",
    "for i in range(len(train_df)) :\n",
    "    df = pd.DataFrame(train_df['songs'][i])\n",
    "    df = df.assign(tags = \" \".join(train_df['tags'][i]),plylst_title = train_df['plylst_title'][i])\n",
    "    list_df.append(df)"
   ]
  },
  {
   "cell_type": "code",
   "execution_count": 36,
   "metadata": {},
   "outputs": [],
   "source": [
    "for i in range(len(list_df)) : \n",
    "    if i == 0 :    \n",
    "        df_fin = list_df[0]\n",
    "    else :\n",
    "        df_fin = pd.concat([df_fin,list_df[i]])"
   ]
  },
  {
   "cell_type": "code",
   "execution_count": 37,
   "metadata": {},
   "outputs": [],
   "source": [
    "df_fin = df_fin.rename(columns={0 : 'song_id'})"
   ]
  },
  {
   "cell_type": "code",
   "execution_count": 38,
   "metadata": {},
   "outputs": [],
   "source": [
    "song_meta = song_meta.rename(columns={'id' : 'song_id'})"
   ]
  },
  {
   "cell_type": "code",
   "execution_count": 39,
   "metadata": {},
   "outputs": [],
   "source": [
    "# 노래 메타 정보와 merge\n",
    "df_fin = pd.merge(df_fin, song_meta, how = 'left', on = \"song_id\")"
   ]
  },
  {
   "cell_type": "markdown",
   "metadata": {},
   "source": [
    "# 콘텐츠 기반 필터링 추천(Content based filtering)"
   ]
  },
  {
   "cell_type": "code",
   "execution_count": 45,
   "metadata": {},
   "outputs": [],
   "source": [
    "data = df_fin"
   ]
  },
  {
   "cell_type": "code",
   "execution_count": 46,
   "metadata": {},
   "outputs": [
    {
     "data": {
      "text/html": [
       "<div>\n",
       "<style scoped>\n",
       "    .dataframe tbody tr th:only-of-type {\n",
       "        vertical-align: middle;\n",
       "    }\n",
       "\n",
       "    .dataframe tbody tr th {\n",
       "        vertical-align: top;\n",
       "    }\n",
       "\n",
       "    .dataframe thead th {\n",
       "        text-align: right;\n",
       "    }\n",
       "</style>\n",
       "<table border=\"1\" class=\"dataframe\">\n",
       "  <thead>\n",
       "    <tr style=\"text-align: right;\">\n",
       "      <th></th>\n",
       "      <th>song_id</th>\n",
       "      <th>tags</th>\n",
       "      <th>plylst_title</th>\n",
       "      <th>song_gn_dtl_gnr_basket</th>\n",
       "      <th>issue_date</th>\n",
       "      <th>album_name</th>\n",
       "      <th>album_id</th>\n",
       "      <th>artist_id_basket</th>\n",
       "      <th>song_name</th>\n",
       "      <th>song_gn_gnr_basket</th>\n",
       "      <th>artist_name_basket</th>\n",
       "    </tr>\n",
       "  </thead>\n",
       "  <tbody>\n",
       "    <tr>\n",
       "      <th>0</th>\n",
       "      <td>525514</td>\n",
       "      <td>락</td>\n",
       "      <td>여행같은 음악</td>\n",
       "      <td>[GN1402, GN1401]</td>\n",
       "      <td>20130506</td>\n",
       "      <td>Hey Little Girl</td>\n",
       "      <td>2200223</td>\n",
       "      <td>[734201]</td>\n",
       "      <td>Hey Little Girl</td>\n",
       "      <td>[GN1400]</td>\n",
       "      <td>[The Sol]</td>\n",
       "    </tr>\n",
       "    <tr>\n",
       "      <th>1</th>\n",
       "      <td>129701</td>\n",
       "      <td>락</td>\n",
       "      <td>여행같은 음악</td>\n",
       "      <td>[GN0901, GN0902, GN1001]</td>\n",
       "      <td>20130917</td>\n",
       "      <td>Brass</td>\n",
       "      <td>2201802</td>\n",
       "      <td>[536907]</td>\n",
       "      <td>Octagon</td>\n",
       "      <td>[GN0900, GN1000]</td>\n",
       "      <td>[Royal Bangs]</td>\n",
       "    </tr>\n",
       "    <tr>\n",
       "      <th>2</th>\n",
       "      <td>383374</td>\n",
       "      <td>락</td>\n",
       "      <td>여행같은 음악</td>\n",
       "      <td>[GN1012, GN1005, GN1001]</td>\n",
       "      <td>19911021</td>\n",
       "      <td>Monsters Under The Bed</td>\n",
       "      <td>2216938</td>\n",
       "      <td>[166978]</td>\n",
       "      <td>The Road</td>\n",
       "      <td>[GN1000]</td>\n",
       "      <td>[Honeymoon Suite]</td>\n",
       "    </tr>\n",
       "    <tr>\n",
       "      <th>3</th>\n",
       "      <td>562083</td>\n",
       "      <td>락</td>\n",
       "      <td>여행같은 음악</td>\n",
       "      <td>[GN1013, GN0901, GN0902, GN1001]</td>\n",
       "      <td>20000919</td>\n",
       "      <td>United</td>\n",
       "      <td>43227</td>\n",
       "      <td>[19035]</td>\n",
       "      <td>Honeymoon</td>\n",
       "      <td>[GN0900, GN1000]</td>\n",
       "      <td>[Phoenix]</td>\n",
       "    </tr>\n",
       "    <tr>\n",
       "      <th>4</th>\n",
       "      <td>297861</td>\n",
       "      <td>락</td>\n",
       "      <td>여행같은 음악</td>\n",
       "      <td>[GN1013, GN0901, GN0902, GN1001]</td>\n",
       "      <td>20050306</td>\n",
       "      <td>Back To Bedlam</td>\n",
       "      <td>303657</td>\n",
       "      <td>[170117]</td>\n",
       "      <td>High</td>\n",
       "      <td>[GN0900, GN1000]</td>\n",
       "      <td>[James Blunt]</td>\n",
       "    </tr>\n",
       "    <tr>\n",
       "      <th>...</th>\n",
       "      <td>...</td>\n",
       "      <td>...</td>\n",
       "      <td>...</td>\n",
       "      <td>...</td>\n",
       "      <td>...</td>\n",
       "      <td>...</td>\n",
       "      <td>...</td>\n",
       "      <td>...</td>\n",
       "      <td>...</td>\n",
       "      <td>...</td>\n",
       "      <td>...</td>\n",
       "    </tr>\n",
       "    <tr>\n",
       "      <th>8033</th>\n",
       "      <td>37212</td>\n",
       "      <td>힙합 감성 나만알고싶은 dope Pop BlackMusic HipHop 기분전환 내...</td>\n",
       "      <td>도입부부터 느낌오는 : Mad Sexy Hiphop Playlist</td>\n",
       "      <td>[GN1201, GN1202]</td>\n",
       "      <td>20170620</td>\n",
       "      <td>No Fear</td>\n",
       "      <td>10072619</td>\n",
       "      <td>[788363]</td>\n",
       "      <td>No Fear</td>\n",
       "      <td>[GN1200]</td>\n",
       "      <td>[Dej Loaf]</td>\n",
       "    </tr>\n",
       "    <tr>\n",
       "      <th>8034</th>\n",
       "      <td>324322</td>\n",
       "      <td>힙합 감성 나만알고싶은 dope Pop BlackMusic HipHop 기분전환 내...</td>\n",
       "      <td>도입부부터 느낌오는 : Mad Sexy Hiphop Playlist</td>\n",
       "      <td>[GN1304, GN1301, GN1302]</td>\n",
       "      <td>20170825</td>\n",
       "      <td>Sky Walker (Feat. Travis Scott)</td>\n",
       "      <td>10090628</td>\n",
       "      <td>[553325]</td>\n",
       "      <td>Sky Walker (Feat. Travis Scott)</td>\n",
       "      <td>[GN1300]</td>\n",
       "      <td>[Miguel]</td>\n",
       "    </tr>\n",
       "    <tr>\n",
       "      <th>8035</th>\n",
       "      <td>14430</td>\n",
       "      <td>힙합 감성 나만알고싶은 dope Pop BlackMusic HipHop 기분전환 내...</td>\n",
       "      <td>도입부부터 느낌오는 : Mad Sexy Hiphop Playlist</td>\n",
       "      <td>[GN1201]</td>\n",
       "      <td>20171103</td>\n",
       "      <td>Without Warning</td>\n",
       "      <td>10108103</td>\n",
       "      <td>[991191, 994217, 1813840]</td>\n",
       "      <td>Ric Flair Drip</td>\n",
       "      <td>[GN1200]</td>\n",
       "      <td>[21 Savage, Offset, Metro Boomin]</td>\n",
       "    </tr>\n",
       "    <tr>\n",
       "      <th>8036</th>\n",
       "      <td>149760</td>\n",
       "      <td>힙합 감성 나만알고싶은 dope Pop BlackMusic HipHop 기분전환 내...</td>\n",
       "      <td>도입부부터 느낌오는 : Mad Sexy Hiphop Playlist</td>\n",
       "      <td>[GN1301]</td>\n",
       "      <td>20171215</td>\n",
       "      <td>The Weekend (Funk Wav Remix)</td>\n",
       "      <td>10120108</td>\n",
       "      <td>[992198, 227229]</td>\n",
       "      <td>The Weekend (Funk Wav Remix)</td>\n",
       "      <td>[GN1300]</td>\n",
       "      <td>[SZA, Calvin Harris]</td>\n",
       "    </tr>\n",
       "    <tr>\n",
       "      <th>8037</th>\n",
       "      <td>400885</td>\n",
       "      <td>힙합 감성 나만알고싶은 dope Pop BlackMusic HipHop 기분전환 내...</td>\n",
       "      <td>도입부부터 느낌오는 : Mad Sexy Hiphop Playlist</td>\n",
       "      <td>[GN1201, GN1202]</td>\n",
       "      <td>20171215</td>\n",
       "      <td>NO ONE EVER REALLY DIES</td>\n",
       "      <td>10108312</td>\n",
       "      <td>[106558, 554340]</td>\n",
       "      <td>Don`t Don`t Do It!</td>\n",
       "      <td>[GN1200]</td>\n",
       "      <td>[N.E.R.D, Kendrick Lamar]</td>\n",
       "    </tr>\n",
       "  </tbody>\n",
       "</table>\n",
       "<p>8038 rows × 11 columns</p>\n",
       "</div>"
      ],
      "text/plain": [
       "      song_id                                               tags  \\\n",
       "0      525514                                                  락   \n",
       "1      129701                                                  락   \n",
       "2      383374                                                  락   \n",
       "3      562083                                                  락   \n",
       "4      297861                                                  락   \n",
       "...       ...                                                ...   \n",
       "8033    37212  힙합 감성 나만알고싶은 dope Pop BlackMusic HipHop 기분전환 내...   \n",
       "8034   324322  힙합 감성 나만알고싶은 dope Pop BlackMusic HipHop 기분전환 내...   \n",
       "8035    14430  힙합 감성 나만알고싶은 dope Pop BlackMusic HipHop 기분전환 내...   \n",
       "8036   149760  힙합 감성 나만알고싶은 dope Pop BlackMusic HipHop 기분전환 내...   \n",
       "8037   400885  힙합 감성 나만알고싶은 dope Pop BlackMusic HipHop 기분전환 내...   \n",
       "\n",
       "                               plylst_title            song_gn_dtl_gnr_basket  \\\n",
       "0                                   여행같은 음악                  [GN1402, GN1401]   \n",
       "1                                   여행같은 음악          [GN0901, GN0902, GN1001]   \n",
       "2                                   여행같은 음악          [GN1012, GN1005, GN1001]   \n",
       "3                                   여행같은 음악  [GN1013, GN0901, GN0902, GN1001]   \n",
       "4                                   여행같은 음악  [GN1013, GN0901, GN0902, GN1001]   \n",
       "...                                     ...                               ...   \n",
       "8033  도입부부터 느낌오는 : Mad Sexy Hiphop Playlist                  [GN1201, GN1202]   \n",
       "8034  도입부부터 느낌오는 : Mad Sexy Hiphop Playlist          [GN1304, GN1301, GN1302]   \n",
       "8035  도입부부터 느낌오는 : Mad Sexy Hiphop Playlist                          [GN1201]   \n",
       "8036  도입부부터 느낌오는 : Mad Sexy Hiphop Playlist                          [GN1301]   \n",
       "8037  도입부부터 느낌오는 : Mad Sexy Hiphop Playlist                  [GN1201, GN1202]   \n",
       "\n",
       "      issue_date                       album_name  album_id  \\\n",
       "0       20130506                  Hey Little Girl   2200223   \n",
       "1       20130917                            Brass   2201802   \n",
       "2       19911021           Monsters Under The Bed   2216938   \n",
       "3       20000919                           United     43227   \n",
       "4       20050306                   Back To Bedlam    303657   \n",
       "...          ...                              ...       ...   \n",
       "8033    20170620                          No Fear  10072619   \n",
       "8034    20170825  Sky Walker (Feat. Travis Scott)  10090628   \n",
       "8035    20171103                  Without Warning  10108103   \n",
       "8036    20171215     The Weekend (Funk Wav Remix)  10120108   \n",
       "8037    20171215          NO ONE EVER REALLY DIES  10108312   \n",
       "\n",
       "               artist_id_basket                        song_name  \\\n",
       "0                      [734201]                  Hey Little Girl   \n",
       "1                      [536907]                          Octagon   \n",
       "2                      [166978]                         The Road   \n",
       "3                       [19035]                        Honeymoon   \n",
       "4                      [170117]                             High   \n",
       "...                         ...                              ...   \n",
       "8033                   [788363]                          No Fear   \n",
       "8034                   [553325]  Sky Walker (Feat. Travis Scott)   \n",
       "8035  [991191, 994217, 1813840]                   Ric Flair Drip   \n",
       "8036           [992198, 227229]     The Weekend (Funk Wav Remix)   \n",
       "8037           [106558, 554340]               Don`t Don`t Do It!   \n",
       "\n",
       "     song_gn_gnr_basket                 artist_name_basket  \n",
       "0              [GN1400]                          [The Sol]  \n",
       "1      [GN0900, GN1000]                      [Royal Bangs]  \n",
       "2              [GN1000]                  [Honeymoon Suite]  \n",
       "3      [GN0900, GN1000]                          [Phoenix]  \n",
       "4      [GN0900, GN1000]                      [James Blunt]  \n",
       "...                 ...                                ...  \n",
       "8033           [GN1200]                         [Dej Loaf]  \n",
       "8034           [GN1300]                           [Miguel]  \n",
       "8035           [GN1200]  [21 Savage, Offset, Metro Boomin]  \n",
       "8036           [GN1300]               [SZA, Calvin Harris]  \n",
       "8037           [GN1200]          [N.E.R.D, Kendrick Lamar]  \n",
       "\n",
       "[8038 rows x 11 columns]"
      ]
     },
     "execution_count": 46,
     "metadata": {},
     "output_type": "execute_result"
    }
   ],
   "source": [
    "data"
   ]
  },
  {
   "cell_type": "code",
   "execution_count": 48,
   "metadata": {},
   "outputs": [
    {
     "data": {
      "text/plain": [
       "(8038, 6329)"
      ]
     },
     "execution_count": 48,
     "metadata": {},
     "output_type": "execute_result"
    }
   ],
   "source": [
    "count_vector = CountVectorizer(ngram_range=(1, 1))\n",
    "c_vector_genres = count_vector.fit_transform(data['album_name'])\n",
    "c_vector_genres.shape"
   ]
  },
  {
   "cell_type": "code",
   "execution_count": 49,
   "metadata": {
    "scrolled": true
   },
   "outputs": [
    {
     "data": {
      "text/plain": [
       "array([[   0, 3496, 4058, ..., 5350, 5351, 4018],\n",
       "       [   1, 7147, 8037, ..., 5364, 5365,    0],\n",
       "       [   2, 1919, 3520, ..., 5229, 5232,    0],\n",
       "       ...,\n",
       "       [8035, 7551,  443, ..., 5363, 5364,    0],\n",
       "       [8036, 1797, 4778, ..., 5237, 5238,    0],\n",
       "       [8037, 2616, 3564, ..., 5350, 5351,    0]], dtype=int64)"
      ]
     },
     "execution_count": 49,
     "metadata": {},
     "output_type": "execute_result"
    }
   ],
   "source": [
    "#코사인 유사도를 구한 벡터를 미리 저장\n",
    "gerne_c_sim = cosine_similarity(c_vector_genres, c_vector_genres).argsort()[:, ::-1]\n",
    "gerne_c_sim.shape\n",
    "gerne_c_sim"
   ]
  },
  {
   "cell_type": "code",
   "execution_count": 50,
   "metadata": {},
   "outputs": [],
   "source": [
    "def get_recommend_movie_list(df, song_id, top=10):\n",
    "    # 특정 영화와 비슷한 영화를 추천해야 하기 때문에 '특정 영화' 정보를 뽑아낸다.\n",
    "    target_movie_index = df[df['song_id'] == song_id].index.values\n",
    "    \n",
    "    #코사인 유사도 중 비슷한 코사인 유사도를 가진 정보를 뽑아낸다.\n",
    "    sim_index = gerne_c_sim[target_movie_index, :top].reshape(-1)\n",
    "    #본인을 제외\n",
    "    sim_index = sim_index[sim_index != target_movie_index]\n",
    "\n",
    "    #data frame으로 만들고 vote_count으로 정렬한 뒤 return\n",
    "    result = sim_index\n",
    "    return result"
   ]
  },
  {
   "cell_type": "code",
   "execution_count": 51,
   "metadata": {
    "scrolled": true
   },
   "outputs": [
    {
     "name": "stderr",
     "output_type": "stream",
     "text": [
      "C:\\Users\\kjh96\\anaconda3\\lib\\site-packages\\ipykernel_launcher.py:8: DeprecationWarning: elementwise comparison failed; this will raise an error in the future.\n",
      "  \n"
     ]
    },
    {
     "data": {
      "text/plain": [
       "array([[2200, 1300,   44,   43, 2488, 5713,   51, 4262, 6270, 6511, 2200,\n",
       "        1300,   44,   43, 2488, 5713,   51, 4262, 6270, 6511, 2200, 1300,\n",
       "          44,   43, 2488, 5713,   51, 4262, 6270, 6511]], dtype=int64)"
      ]
     },
     "execution_count": 51,
     "metadata": {},
     "output_type": "execute_result"
    }
   ],
   "source": [
    "get_recommend_movie_list(data, song_id= 6546)"
   ]
  },
  {
   "cell_type": "code",
   "execution_count": 31,
   "metadata": {},
   "outputs": [
    {
     "data": {
      "text/html": [
       "<div>\n",
       "<style scoped>\n",
       "    .dataframe tbody tr th:only-of-type {\n",
       "        vertical-align: middle;\n",
       "    }\n",
       "\n",
       "    .dataframe tbody tr th {\n",
       "        vertical-align: top;\n",
       "    }\n",
       "\n",
       "    .dataframe thead th {\n",
       "        text-align: right;\n",
       "    }\n",
       "</style>\n",
       "<table border=\"1\" class=\"dataframe\">\n",
       "  <thead>\n",
       "    <tr style=\"text-align: right;\">\n",
       "      <th></th>\n",
       "      <th>song_gn_dtl_gnr_basket</th>\n",
       "      <th>issue_date</th>\n",
       "      <th>album_name</th>\n",
       "      <th>album_id</th>\n",
       "      <th>artist_id_basket</th>\n",
       "      <th>song_name</th>\n",
       "      <th>song_gn_gnr_basket</th>\n",
       "      <th>artist_name_basket</th>\n",
       "      <th>song_id</th>\n",
       "    </tr>\n",
       "  </thead>\n",
       "  <tbody>\n",
       "    <tr>\n",
       "      <th>6546</th>\n",
       "      <td>[GN0105, GN1501, GN0101, GN1504]</td>\n",
       "      <td>20140902</td>\n",
       "      <td>연애의 발견 OST Part 4</td>\n",
       "      <td>2279896</td>\n",
       "      <td>[192827]</td>\n",
       "      <td>묘해, 너와</td>\n",
       "      <td>[GN1500, GN0100]</td>\n",
       "      <td>[어쿠스틱 콜라보]</td>\n",
       "      <td>6546</td>\n",
       "    </tr>\n",
       "  </tbody>\n",
       "</table>\n",
       "</div>"
      ],
      "text/plain": [
       "                song_gn_dtl_gnr_basket  issue_date         album_name  \\\n",
       "6546  [GN0105, GN1501, GN0101, GN1504]    20140902  연애의 발견 OST Part 4   \n",
       "\n",
       "      album_id artist_id_basket song_name song_gn_gnr_basket  \\\n",
       "6546   2279896         [192827]    묘해, 너와   [GN1500, GN0100]   \n",
       "\n",
       "     artist_name_basket  song_id  \n",
       "6546         [어쿠스틱 콜라보]     6546  "
      ]
     },
     "execution_count": 31,
     "metadata": {},
     "output_type": "execute_result"
    }
   ],
   "source": [
    "song_meta[song_meta['song_id']==6546]"
   ]
  },
  {
   "cell_type": "code",
   "execution_count": 55,
   "metadata": {},
   "outputs": [
    {
     "data": {
      "text/html": [
       "<div>\n",
       "<style scoped>\n",
       "    .dataframe tbody tr th:only-of-type {\n",
       "        vertical-align: middle;\n",
       "    }\n",
       "\n",
       "    .dataframe tbody tr th {\n",
       "        vertical-align: top;\n",
       "    }\n",
       "\n",
       "    .dataframe thead th {\n",
       "        text-align: right;\n",
       "    }\n",
       "</style>\n",
       "<table border=\"1\" class=\"dataframe\">\n",
       "  <thead>\n",
       "    <tr style=\"text-align: right;\">\n",
       "      <th></th>\n",
       "      <th>song_gn_dtl_gnr_basket</th>\n",
       "      <th>issue_date</th>\n",
       "      <th>album_name</th>\n",
       "      <th>album_id</th>\n",
       "      <th>artist_id_basket</th>\n",
       "      <th>song_name</th>\n",
       "      <th>song_gn_gnr_basket</th>\n",
       "      <th>artist_name_basket</th>\n",
       "      <th>song_id</th>\n",
       "    </tr>\n",
       "  </thead>\n",
       "  <tbody>\n",
       "    <tr>\n",
       "      <th>2488</th>\n",
       "      <td>[GN1701, GN1706]</td>\n",
       "      <td>20151028</td>\n",
       "      <td>A NIGHT IN SOUTH BLUE MOUNTAIN</td>\n",
       "      <td>2647134</td>\n",
       "      <td>[518540]</td>\n",
       "      <td>Montara</td>\n",
       "      <td>[GN1700]</td>\n",
       "      <td>[Soil &amp; `Pimp` Sessions]</td>\n",
       "      <td>2488</td>\n",
       "    </tr>\n",
       "  </tbody>\n",
       "</table>\n",
       "</div>"
      ],
      "text/plain": [
       "     song_gn_dtl_gnr_basket  issue_date                      album_name  \\\n",
       "2488       [GN1701, GN1706]    20151028  A NIGHT IN SOUTH BLUE MOUNTAIN   \n",
       "\n",
       "      album_id artist_id_basket song_name song_gn_gnr_basket  \\\n",
       "2488   2647134         [518540]   Montara           [GN1700]   \n",
       "\n",
       "            artist_name_basket  song_id  \n",
       "2488  [Soil & `Pimp` Sessions]     2488  "
      ]
     },
     "execution_count": 55,
     "metadata": {},
     "output_type": "execute_result"
    }
   ],
   "source": [
    "song_meta[song_meta['song_id']== 2488]"
   ]
  }
 ],
 "metadata": {
  "kernelspec": {
   "display_name": "Python 3",
   "language": "python",
   "name": "python3"
  },
  "language_info": {
   "codemirror_mode": {
    "name": "ipython",
    "version": 3
   },
   "file_extension": ".py",
   "mimetype": "text/x-python",
   "name": "python",
   "nbconvert_exporter": "python",
   "pygments_lexer": "ipython3",
   "version": "3.7.6"
  }
 },
 "nbformat": 4,
 "nbformat_minor": 4
}
